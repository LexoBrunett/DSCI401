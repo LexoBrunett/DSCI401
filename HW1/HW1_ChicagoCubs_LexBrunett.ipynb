{
  "nbformat": 4,
  "nbformat_minor": 0,
  "metadata": {
    "colab": {
      "provenance": []
    },
    "kernelspec": {
      "name": "python3",
      "display_name": "Python 3"
    },
    "language_info": {
      "name": "python"
    }
  },
  "cells": [
    {
      "cell_type": "markdown",
      "source": [
        "\n",
        "HomeWork 1 - Chicago Cubs History report\n",
        "\n",
        "Lex Brunett\n",
        "Modern Data Science"
      ],
      "metadata": {
        "id": "Ph-tsgemC53N"
      }
    },
    {
      "cell_type": "markdown",
      "source": [
        "Import dataset from github to visualize it with panda package."
      ],
      "metadata": {
        "id": "lGuGPJWZC1Lr"
      }
    },
    {
      "cell_type": "code",
      "source": [
        "import pandas as pd\n",
        "cubs = pd.read_csv(\"https://raw.githubusercontent.com/gjm112/DSCI401/main/data/cubs_all_time.csv\")"
      ],
      "metadata": {
        "id": "Ut3tFQJQCv-7"
      },
      "execution_count": 1,
      "outputs": []
    },
    {
      "cell_type": "code",
      "source": [
        "df = pd.DataFrame(data=cubs)\n",
        "print(df)"
      ],
      "metadata": {
        "colab": {
          "base_uri": "https://localhost:8080/"
        },
        "id": "Mr-0mceSqMKB",
        "outputId": "b55d867c-7fc7-47dd-8280-5e94da87097a"
      },
      "execution_count": 2,
      "outputs": [
        {
          "output_type": "stream",
          "name": "stdout",
          "text": [
            "     Year                       Tm          Lg    G   W   L  Ties   W-L%  \\\n",
            "0    2022             Chicago Cubs  NL Central  125  54  71     0  0.432   \n",
            "1    2021             Chicago Cubs  NL Central  162  71  91     0  0.438   \n",
            "2    2020             Chicago Cubs  NL Central   60  34  26     0  0.567   \n",
            "3    2019             Chicago Cubs  NL Central  162  84  78     0  0.519   \n",
            "4    2018             Chicago Cubs  NL Central  163  95  68     0  0.583   \n",
            "..    ...                      ...         ...  ...  ..  ..   ...    ...   \n",
            "142  1880  Chicago White Stockings          NL   86  67  17     2  0.798   \n",
            "143  1879  Chicago White Stockings          NL   83  46  33     4  0.582   \n",
            "144  1878  Chicago White Stockings          NL   61  30  30     1  0.500   \n",
            "145  1877  Chicago White Stockings          NL   60  26  33     1  0.441   \n",
            "146  1876  Chicago White Stockings          NL   66  52  14     0  0.788   \n",
            "\n",
            "     pythW-L%    Finish  ...         Playoffs    R   RA  Attendance  BatAge  \\\n",
            "0       0.436  3rd of 5  ...              NaN  518  596   2163550.0    28.1   \n",
            "1       0.421  4th of 5  ...              NaN  705  839   1978934.0    29.1   \n",
            "2       0.545  1st of 5  ...  Lost NLWC (2-0)  265  240         NaN    27.9   \n",
            "3       0.558  3rd of 5  ...              NaN  814  717   3094865.0    27.7   \n",
            "4       0.575  2nd of 5  ...  Lost NLWC (1-0)  761  645   3181089.0    27.2   \n",
            "..        ...       ...  ...              ...  ...  ...         ...     ...   \n",
            "142     0.725  1st of 8  ...              NaN  538  317         NaN    23.9   \n",
            "143     0.528  4th of 8  ...              NaN  437  411         NaN    24.8   \n",
            "144     0.552  4th of 6  ...              NaN  371  331         NaN    26.2   \n",
            "145     0.489  5th of 6  ...              NaN  366  375         NaN    25.5   \n",
            "146     0.835  1st of 8  ...              NaN  624  257         NaN    25.9   \n",
            "\n",
            "     PAge  #Bat  #P         Top Player                            Managers  \n",
            "0    29.8    57  37    N.Hoerner (4.2)                      D.Ross (54-71)  \n",
            "1    29.4    69  40  W.Contreras (4.1)                      D.Ross (71-91)  \n",
            "2    30.3    47  26    Y.Darvish (2.8)                      D.Ross (34-26)  \n",
            "3    31.1    52  33       J.Baez (6.6)                    J.Maddon (84-78)  \n",
            "4    30.2    50  35       J.Baez (6.4)                    J.Maddon (95-68)  \n",
            "..    ...   ...  ..                ...                                 ...  \n",
            "142  21.2    13   6   L.Corcoran (7.0)                     C.Anson (67-17)  \n",
            "143  23.0    16   2     T.Larkin (4.9)  C.Anson (41-21) and S.Flint (5-12)  \n",
            "144  21.8    15   3     T.Larkin (5.6)                  B.Ferguson (30-30)  \n",
            "145  24.2    18   5    G.Bradley (2.8)                  A.Spalding (26-33)  \n",
            "146  25.1    11   5  A.Spalding (10.2)                  A.Spalding (52-14)  \n",
            "\n",
            "[147 rows x 21 columns]\n"
          ]
        }
      ]
    },
    {
      "cell_type": "markdown",
      "source": [
        "How many total games have the Cubs won and lost between 1876\n",
        "and 2022?"
      ],
      "metadata": {
        "id": "iKmk6qARDDYB"
      }
    },
    {
      "cell_type": "code",
      "source": [
        "wins= df['W'].sum()\n",
        "loses= df['L'].sum()\n",
        "\n",
        "win_String = \"Chicago Cubs had from 1876 to 2022 amount of\" + \" \" + str(wins) + \" wins.\"\n",
        "loses_String = \"Chicago Cubs had from 1876 to 2022 amount of\" + \" \" + str(loses) + \" loses.\"\n",
        "\n",
        "print(win_String)\n",
        "print(loses_String)"
      ],
      "metadata": {
        "id": "kueh0DseDCb6",
        "colab": {
          "base_uri": "https://localhost:8080/"
        },
        "outputId": "6a2b4c62-404b-4734-eada-31a0b32758fc"
      },
      "execution_count": 3,
      "outputs": [
        {
          "output_type": "stream",
          "name": "stdout",
          "text": [
            "Chicago Cubs had from 1876 to 2022 amount of 11141 wins.\n",
            "Chicago Cubs had from 1876 to 2022 amount of 10592 loses.\n"
          ]
        }
      ]
    },
    {
      "cell_type": "markdown",
      "source": [
        "What year did the Cubs score the most runs? What year did the\n",
        "Cubs score the fewest runs? Do you have any thoughts about the\n",
        "year that the Cubs scored the fewest runs?"
      ],
      "metadata": {
        "id": "O_76eCJKDHfU"
      }
    },
    {
      "cell_type": "code",
      "source": [
        "#Getting the index of the maximun value of the runs column\n",
        "max_runs_index = df['R'].idxmax()\n",
        "\n",
        "#Getting the index of the minimun value of the runs column\n",
        "min_runs_index = df['R'].idxmin()\n",
        "\n"
      ],
      "metadata": {
        "id": "Peqn8qIBDG1K"
      },
      "execution_count": 4,
      "outputs": []
    },
    {
      "cell_type": "code",
      "source": [
        "#Obtaining value from the index\n",
        "best_run = df['Year'][max_runs_index]\n",
        "\n",
        "#Obtaining value from the index\n",
        "worst_run = df['Year'][min_runs_index]\n",
        "\n",
        "#Passing through strings for the results\n",
        "Best_Run_String = \"Chicago Cubs most runs seasons from 1876 to 2022 happened in\" + \" \" + str(best_run)\n",
        "Worst_Run_String = \"Chicago Cubs fewest runs seasons from 1876 to 2022 happened in\" + \" \" + str(worst_run)\n",
        "\n",
        "#printing in the cell\n",
        "print(Best_Run_String)\n",
        "print(Worst_Run_String)"
      ],
      "metadata": {
        "colab": {
          "base_uri": "https://localhost:8080/"
        },
        "id": "frS2lUSRxm_4",
        "outputId": "a053eaa3-1270-409a-b039-3de260f9ff03"
      },
      "execution_count": 5,
      "outputs": [
        {
          "output_type": "stream",
          "name": "stdout",
          "text": [
            "Chicago Cubs most runs seasons from 1876 to 2022 happened in 1894\n",
            "Chicago Cubs fewest runs seasons from 1876 to 2022 happened in 2020\n"
          ]
        }
      ]
    },
    {
      "cell_type": "markdown",
      "source": [
        "It seems that the chicago cubs suffer the fewest runs season in 2020, looking the year, that season was during pandemic where people suffered some breathing problems and it could be a reason of the decrease of the efficiency of the runs in that year."
      ],
      "metadata": {
        "id": "fDIKzYCNdlgN"
      }
    },
    {
      "cell_type": "markdown",
      "source": [
        "In how many seasons was the Cubs total attendance (i.e. the variable\n",
        "Attendance) over 3 million?"
      ],
      "metadata": {
        "id": "q8v19vhXDI-z"
      }
    },
    {
      "cell_type": "code",
      "source": [
        "season_num = 0\n",
        "\n",
        "for x in df['Attendance']:\n",
        "  if x >= 3000000:\n",
        "    season_num+=1\n",
        "\n",
        "#Passing through strings for the results\n",
        "Best_attendance_String = \"Chicago Cubs reached in total\" + \" \" + str(season_num) + \" seasons which the attendance passed 3 million\"\n",
        "\n",
        "#printing in the cell\n",
        "print(Best_attendance_String)"
      ],
      "metadata": {
        "id": "83FPkSp_DJl1",
        "colab": {
          "base_uri": "https://localhost:8080/"
        },
        "outputId": "df416624-7b3e-462c-ab59-e06fcce86b3c"
      },
      "execution_count": 6,
      "outputs": [
        {
          "output_type": "stream",
          "name": "stdout",
          "text": [
            "Chicago Cubs reached in total 12 seasons which the attendance passed 3 million\n"
          ]
        }
      ]
    }
  ]
}